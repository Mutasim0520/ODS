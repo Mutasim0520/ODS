{
 "cells": [
  {
   "cell_type": "code",
   "execution_count": 87,
   "metadata": {},
   "outputs": [
    {
     "name": "stdout",
     "output_type": "stream",
     "text": [
      "123\n"
     ]
    },
    {
     "data": {
      "image/png": "[encoded data removed]",
      "text/plain": [
       "<Figure size 432x288 with 1 Axes>"
      ]
     },
     "metadata": {
      "needs_background": "light"
     },
     "output_type": "display_data"
    }
   ],
   "source": [
    "import numpy as np\n",
    "import matplotlib.pyplot as plt\n",
    "from numpy import fft\n",
    "import pandas as pd\n",
    "from numpy import loadtxt\n",
    "from scipy.spatial import distance\n",
    "\n",
    "\n",
    "dax_data = np.loadtxt(\"dax_data.txt\", comments=\"#\", delimiter=\"\\n\")\n",
    "# plt.plot(dax_data)\n",
    "\n",
    "coef_array = np.fft.rfft(dax_data)\n",
    "# time_step = 1\n",
    "\n",
    "# sample_freq = fft.fftfreq(dax_data.size, d=time_step)\n",
    "# amplitude = np.abs(coef_array)\n",
    "# amp_freq = np.array([amplitude,sample_freq])\n",
    "\n",
    "# max_amp_position_array = np.argsort(amp_freq[0,:])[::-1]\n",
    "# peak_freq = amp_freq[1,max_amp_position_array[0]]\n",
    "\n",
    "\n",
    "def approximation(num_coef):\n",
    "    copy_coef = list(np.absolute(coef_array))\n",
    "    sorted_coefs_position = np.argsort(copy_coef)[-num_coef:]\n",
    "    sorted_coefs_value = np.sort(copy_coef)[-num_coef:]\n",
    "    zeros = np.zeros(coef_array.size, dtype='complex128')\n",
    "    for i in range(num_coef):\n",
    "        position = copy_coef.index(sorted_coefs_value[i])\n",
    "        zeros[position] = coef_array[position]\n",
    "    filtered_sig = np.fft.irfft(zeros)\n",
    "    return filtered_sig\n",
    "    \n",
    "\n",
    "def best_approximation(average_absolute_difference):\n",
    "    counter = 1\n",
    "    while counter <= coef_array.size:\n",
    "        approximated_data = approximation(counter)\n",
    "        avg_abs_diff = np.average(np.absolute(approximated_data - dax_data))\n",
    "        if avg_abs_diff > average_absolute_difference:\n",
    "            counter += 1\n",
    "        else:\n",
    "            plt.plot(approximated_data)\n",
    "            print(counter)\n",
    "            break\n",
    "    \n",
    "\n",
    "approximate = approximation(1)\n",
    "plt.plot(approximate)\n",
    "\n",
    "best_approximation(100)"
   ]
  },
  {
   "cell_type": "code",
   "execution_count": 31,
   "metadata": {},
   "outputs": [
    {
     "ename": "NameError",
     "evalue": "name 'amp_freq' is not defined",
     "output_type": "error",
     "traceback": [
      "\u001b[1;31m---------------------------------------------------------------------------\u001b[0m",
      "\u001b[1;31mNameError\u001b[0m                                 Traceback (most recent call last)",
      "\u001b[1;32m<ipython-input-31-663f447ed98f>\u001b[0m in \u001b[0;36m<module>\u001b[1;34m\u001b[0m\n\u001b[0;32m     12\u001b[0m         \u001b[0mi\u001b[0m \u001b[1;33m+=\u001b[0m \u001b[1;36m1\u001b[0m\u001b[1;33m\u001b[0m\u001b[1;33m\u001b[0m\u001b[0m\n\u001b[0;32m     13\u001b[0m \u001b[1;33m\u001b[0m\u001b[0m\n\u001b[1;32m---> 14\u001b[1;33m \u001b[0mcreate_signal\u001b[0m\u001b[1;33m(\u001b[0m\u001b[1;36m5\u001b[0m\u001b[1;33m)\u001b[0m\u001b[1;33m\u001b[0m\u001b[1;33m\u001b[0m\u001b[0m\n\u001b[0m",
      "\u001b[1;32m<ipython-input-31-663f447ed98f>\u001b[0m in \u001b[0;36mcreate_signal\u001b[1;34m(num_sig)\u001b[0m\n\u001b[0;32m      6\u001b[0m         \u001b[0momg\u001b[0m \u001b[1;33m=\u001b[0m \u001b[1;36m2\u001b[0m\u001b[1;33m*\u001b[0m\u001b[0mnp\u001b[0m\u001b[1;33m.\u001b[0m\u001b[0mpi\u001b[0m\u001b[1;33m/\u001b[0m\u001b[0mlx\u001b[0m\u001b[1;33m\u001b[0m\u001b[1;33m\u001b[0m\u001b[0m\n\u001b[0;32m      7\u001b[0m         \u001b[0mx\u001b[0m \u001b[1;33m=\u001b[0m \u001b[0mnp\u001b[0m\u001b[1;33m.\u001b[0m\u001b[0mlinspace\u001b[0m\u001b[1;33m(\u001b[0m\u001b[1;36m0\u001b[0m\u001b[1;33m,\u001b[0m\u001b[0mlx\u001b[0m\u001b[1;33m,\u001b[0m\u001b[0mn\u001b[0m\u001b[1;33m)\u001b[0m\u001b[1;33m\u001b[0m\u001b[1;33m\u001b[0m\u001b[0m\n\u001b[1;32m----> 8\u001b[1;33m         \u001b[0mamp\u001b[0m \u001b[1;33m=\u001b[0m \u001b[0mamp_freq\u001b[0m\u001b[1;33m[\u001b[0m\u001b[1;36m0\u001b[0m\u001b[1;33m]\u001b[0m\u001b[1;33m[\u001b[0m\u001b[0mi\u001b[0m\u001b[1;33m]\u001b[0m\u001b[1;33m\u001b[0m\u001b[1;33m\u001b[0m\u001b[0m\n\u001b[0m\u001b[0;32m      9\u001b[0m         \u001b[0mfreq\u001b[0m \u001b[1;33m=\u001b[0m \u001b[0mamp_freq\u001b[0m\u001b[1;33m[\u001b[0m\u001b[1;36m1\u001b[0m\u001b[1;33m]\u001b[0m\u001b[1;33m[\u001b[0m\u001b[0mi\u001b[0m\u001b[1;33m]\u001b[0m\u001b[1;33m\u001b[0m\u001b[1;33m\u001b[0m\u001b[0m\n\u001b[0;32m     10\u001b[0m         \u001b[0msignal\u001b[0m \u001b[1;33m=\u001b[0m \u001b[0mamp\u001b[0m\u001b[1;33m*\u001b[0m\u001b[0mnp\u001b[0m\u001b[1;33m.\u001b[0m\u001b[0msin\u001b[0m\u001b[1;33m(\u001b[0m\u001b[0momg\u001b[0m\u001b[1;33m*\u001b[0m\u001b[0mi\u001b[0m\u001b[1;33m*\u001b[0m\u001b[0mx\u001b[0m\u001b[1;33m)\u001b[0m\u001b[1;33m\u001b[0m\u001b[1;33m\u001b[0m\u001b[0m\n",
      "\u001b[1;31mNameError\u001b[0m: name 'amp_freq' is not defined"
     ]
    }
   ],
   "source": [
    "def create_signal(num_sig):\n",
    "    i = 0\n",
    "    while i<num_sig:\n",
    "        n = 10000\n",
    "        lx = 10\n",
    "        omg = 2*np.pi/lx\n",
    "        x = np.linspace(0,lx,n)\n",
    "        amp = amp_freq[0][i]\n",
    "        freq = amp_freq[1][i]\n",
    "        signal = amp*np.sin(omg*i*x)\n",
    "        plt.plot(signal)\n",
    "        i += 1\n",
    "\n",
    "create_signal(5)"
   ]
  },
  {
   "cell_type": "code",
   "execution_count": 52,
   "metadata": {},
   "outputs": [
    {
     "name": "stdout",
     "output_type": "stream",
     "text": [
      "b:  [0 1 2 6]\n",
      "2\n",
      "[10 23 45  2  0  5 78]\n"
     ]
    }
   ],
   "source": [
    "a = np.array([10,23,45,2,0,5,78])\n",
    "\n",
    "def approximation(num_coef):\n",
    "    b = np.argsort(a)[-4:]\n",
    "    print('b: ',b)\n",
    "    print(b[num_coef-1])\n",
    "    a[a < b[num_coef-1]] = 0\n",
    "    print(a)\n",
    "approximation(3)"
   ]
  },
  {
   "cell_type": "code",
   "execution_count": null,
   "metadata": {},
   "outputs": [],
   "source": [
    "#         copy_coef = coef_array.copy()\n",
    "#         copy_coef[np.abs(sample_freq) > amp_freq[1,max_amp_position_array[counter]]] = 0\n"
   ]
  }
 ],
 "metadata": {
  "kernelspec": {
   "display_name": "Python 3",
   "language": "python",
   "name": "python3"
  },
  "language_info": {
   "codemirror_mode": {
    "name": "ipython",
    "version": 3
   },
   "file_extension": ".py",
   "mimetype": "text/x-python",
   "name": "python",
   "nbconvert_exporter": "python",
   "pygments_lexer": "ipython3",
   "version": "3.7.6"
  }
 },
 "nbformat": 4,
 "nbformat_minor": 4
}
